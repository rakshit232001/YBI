{
  "cells": [
    {
      "cell_type": "markdown",
      "source": [
        "# **Title of Project : Servo Prediction using Linear Regression**"
      ],
      "metadata": {
        "id": "8jtCvRGgyZEc"
      },
      "id": "8jtCvRGgyZEc"
    },
    {
      "cell_type": "markdown",
      "source": [
        "**Data Set Information:**\n",
        "\n",
        "The data was from a simulation of a servo system involving a servo amplifier, a motor, a lead screw/nut, and a sliding carriage of some sort. The output value is rise time, or the time required for the system to respond to a step change in a position set point.\n",
        "\n",
        "This data covers an extremely non-linear phenomenon - predicting the rise time of a servomechanism in terms of two (continuous) gain settings and two (discrete) choices of mechanical linkages."
      ],
      "metadata": {
        "id": "y11UeEpwz5K2"
      },
      "id": "y11UeEpwz5K2"
    },
    {
      "cell_type": "markdown",
      "source": [
        "## **Import Library**"
      ],
      "metadata": {
        "id": "rPwapDnx0Bta"
      },
      "id": "rPwapDnx0Bta"
    },
    {
      "cell_type": "code",
      "execution_count": 43,
      "id": "047fc143",
      "metadata": {
        "execution": {
          "iopub.execute_input": "2023-04-19T15:35:08.239155Z",
          "iopub.status.busy": "2023-04-19T15:35:08.238652Z",
          "iopub.status.idle": "2023-04-19T15:35:08.252656Z",
          "shell.execute_reply": "2023-04-19T15:35:08.250671Z"
        },
        "papermill": {
          "duration": 0.031198,
          "end_time": "2023-04-19T15:35:08.255667",
          "exception": false,
          "start_time": "2023-04-19T15:35:08.224469",
          "status": "completed"
        },
        "tags": [],
        "id": "047fc143"
      },
      "outputs": [],
      "source": [
        "import pandas as pd\n",
        "from sklearn.model_selection import train_test_split\n",
        "from sklearn.linear_model import LinearRegression\n",
        "from sklearn.metrics import mean_squared_error, mean_absolute_error,r2_score\n",
        "import matplotlib.pyplot as plt"
      ]
    },
    {
      "cell_type": "markdown",
      "source": [
        "## **Import Data**"
      ],
      "metadata": {
        "id": "ZwX0P1fG0iQE"
      },
      "id": "ZwX0P1fG0iQE"
    },
    {
      "cell_type": "code",
      "execution_count": 44,
      "id": "beddf360",
      "metadata": {
        "execution": {
          "iopub.execute_input": "2023-04-19T15:35:08.279429Z",
          "iopub.status.busy": "2023-04-19T15:35:08.278906Z",
          "iopub.status.idle": "2023-04-19T15:35:08.658925Z",
          "shell.execute_reply": "2023-04-19T15:35:08.656884Z"
        },
        "papermill": {
          "duration": 0.396826,
          "end_time": "2023-04-19T15:35:08.662666",
          "exception": false,
          "start_time": "2023-04-19T15:35:08.265840",
          "status": "completed"
        },
        "tags": [],
        "id": "beddf360"
      },
      "outputs": [],
      "source": [
        "servo = pd.read_csv('https://github.com/YBI-Foundation/Dataset/raw/main/Servo%20Mechanism.csv')"
      ]
    },
    {
      "cell_type": "markdown",
      "source": [
        "## **Describe the data**\n",
        "\n",
        "Attribute Information:\n",
        "1. motor: A,B,C,D,E\n",
        "2. screw: A,B,C,D,E\n",
        "3. pgain: 3,4,5,6\n",
        "4. vgain: 1,2,3,4,5\n",
        "5. class: 0.13 to 7.10"
      ],
      "metadata": {
        "id": "8-JtaowL0r1u"
      },
      "id": "8-JtaowL0r1u"
    },
    {
      "cell_type": "code",
      "execution_count": 45,
      "id": "c0f91296",
      "metadata": {
        "execution": {
          "iopub.execute_input": "2023-04-19T15:35:08.687629Z",
          "iopub.status.busy": "2023-04-19T15:35:08.686278Z",
          "iopub.status.idle": "2023-04-19T15:35:08.725738Z",
          "shell.execute_reply": "2023-04-19T15:35:08.723990Z"
        },
        "papermill": {
          "duration": 0.056653,
          "end_time": "2023-04-19T15:35:08.729925",
          "exception": false,
          "start_time": "2023-04-19T15:35:08.673272",
          "status": "completed"
        },
        "tags": [],
        "colab": {
          "base_uri": "https://localhost:8080/",
          "height": 423
        },
        "id": "c0f91296",
        "outputId": "437b1b08-8a62-43bb-a7a5-01fa3588168e"
      },
      "outputs": [
        {
          "output_type": "execute_result",
          "data": {
            "text/plain": [
              "    Motor Screw  Pgain  Vgain  Class\n",
              "0       E     E      5      4      4\n",
              "1       B     D      6      5     11\n",
              "2       D     D      4      3      6\n",
              "3       B     A      3      2     48\n",
              "4       D     B      6      5      6\n",
              "..    ...   ...    ...    ...    ...\n",
              "162     B     C      3      2     44\n",
              "163     B     E      3      1     40\n",
              "164     C     D      4      3     25\n",
              "165     A     B      3      2     44\n",
              "166     A     A      6      5     20\n",
              "\n",
              "[167 rows x 5 columns]"
            ],
            "text/html": [
              "\n",
              "  <div id=\"df-07015356-a256-40b8-9b28-f5c386f71e97\">\n",
              "    <div class=\"colab-df-container\">\n",
              "      <div>\n",
              "<style scoped>\n",
              "    .dataframe tbody tr th:only-of-type {\n",
              "        vertical-align: middle;\n",
              "    }\n",
              "\n",
              "    .dataframe tbody tr th {\n",
              "        vertical-align: top;\n",
              "    }\n",
              "\n",
              "    .dataframe thead th {\n",
              "        text-align: right;\n",
              "    }\n",
              "</style>\n",
              "<table border=\"1\" class=\"dataframe\">\n",
              "  <thead>\n",
              "    <tr style=\"text-align: right;\">\n",
              "      <th></th>\n",
              "      <th>Motor</th>\n",
              "      <th>Screw</th>\n",
              "      <th>Pgain</th>\n",
              "      <th>Vgain</th>\n",
              "      <th>Class</th>\n",
              "    </tr>\n",
              "  </thead>\n",
              "  <tbody>\n",
              "    <tr>\n",
              "      <th>0</th>\n",
              "      <td>E</td>\n",
              "      <td>E</td>\n",
              "      <td>5</td>\n",
              "      <td>4</td>\n",
              "      <td>4</td>\n",
              "    </tr>\n",
              "    <tr>\n",
              "      <th>1</th>\n",
              "      <td>B</td>\n",
              "      <td>D</td>\n",
              "      <td>6</td>\n",
              "      <td>5</td>\n",
              "      <td>11</td>\n",
              "    </tr>\n",
              "    <tr>\n",
              "      <th>2</th>\n",
              "      <td>D</td>\n",
              "      <td>D</td>\n",
              "      <td>4</td>\n",
              "      <td>3</td>\n",
              "      <td>6</td>\n",
              "    </tr>\n",
              "    <tr>\n",
              "      <th>3</th>\n",
              "      <td>B</td>\n",
              "      <td>A</td>\n",
              "      <td>3</td>\n",
              "      <td>2</td>\n",
              "      <td>48</td>\n",
              "    </tr>\n",
              "    <tr>\n",
              "      <th>4</th>\n",
              "      <td>D</td>\n",
              "      <td>B</td>\n",
              "      <td>6</td>\n",
              "      <td>5</td>\n",
              "      <td>6</td>\n",
              "    </tr>\n",
              "    <tr>\n",
              "      <th>...</th>\n",
              "      <td>...</td>\n",
              "      <td>...</td>\n",
              "      <td>...</td>\n",
              "      <td>...</td>\n",
              "      <td>...</td>\n",
              "    </tr>\n",
              "    <tr>\n",
              "      <th>162</th>\n",
              "      <td>B</td>\n",
              "      <td>C</td>\n",
              "      <td>3</td>\n",
              "      <td>2</td>\n",
              "      <td>44</td>\n",
              "    </tr>\n",
              "    <tr>\n",
              "      <th>163</th>\n",
              "      <td>B</td>\n",
              "      <td>E</td>\n",
              "      <td>3</td>\n",
              "      <td>1</td>\n",
              "      <td>40</td>\n",
              "    </tr>\n",
              "    <tr>\n",
              "      <th>164</th>\n",
              "      <td>C</td>\n",
              "      <td>D</td>\n",
              "      <td>4</td>\n",
              "      <td>3</td>\n",
              "      <td>25</td>\n",
              "    </tr>\n",
              "    <tr>\n",
              "      <th>165</th>\n",
              "      <td>A</td>\n",
              "      <td>B</td>\n",
              "      <td>3</td>\n",
              "      <td>2</td>\n",
              "      <td>44</td>\n",
              "    </tr>\n",
              "    <tr>\n",
              "      <th>166</th>\n",
              "      <td>A</td>\n",
              "      <td>A</td>\n",
              "      <td>6</td>\n",
              "      <td>5</td>\n",
              "      <td>20</td>\n",
              "    </tr>\n",
              "  </tbody>\n",
              "</table>\n",
              "<p>167 rows × 5 columns</p>\n",
              "</div>\n",
              "      <button class=\"colab-df-convert\" onclick=\"convertToInteractive('df-07015356-a256-40b8-9b28-f5c386f71e97')\"\n",
              "              title=\"Convert this dataframe to an interactive table.\"\n",
              "              style=\"display:none;\">\n",
              "        \n",
              "  <svg xmlns=\"http://www.w3.org/2000/svg\" height=\"24px\"viewBox=\"0 0 24 24\"\n",
              "       width=\"24px\">\n",
              "    <path d=\"M0 0h24v24H0V0z\" fill=\"none\"/>\n",
              "    <path d=\"M18.56 5.44l.94 2.06.94-2.06 2.06-.94-2.06-.94-.94-2.06-.94 2.06-2.06.94zm-11 1L8.5 8.5l.94-2.06 2.06-.94-2.06-.94L8.5 2.5l-.94 2.06-2.06.94zm10 10l.94 2.06.94-2.06 2.06-.94-2.06-.94-.94-2.06-.94 2.06-2.06.94z\"/><path d=\"M17.41 7.96l-1.37-1.37c-.4-.4-.92-.59-1.43-.59-.52 0-1.04.2-1.43.59L10.3 9.45l-7.72 7.72c-.78.78-.78 2.05 0 2.83L4 21.41c.39.39.9.59 1.41.59.51 0 1.02-.2 1.41-.59l7.78-7.78 2.81-2.81c.8-.78.8-2.07 0-2.86zM5.41 20L4 18.59l7.72-7.72 1.47 1.35L5.41 20z\"/>\n",
              "  </svg>\n",
              "      </button>\n",
              "      \n",
              "  <style>\n",
              "    .colab-df-container {\n",
              "      display:flex;\n",
              "      flex-wrap:wrap;\n",
              "      gap: 12px;\n",
              "    }\n",
              "\n",
              "    .colab-df-convert {\n",
              "      background-color: #E8F0FE;\n",
              "      border: none;\n",
              "      border-radius: 50%;\n",
              "      cursor: pointer;\n",
              "      display: none;\n",
              "      fill: #1967D2;\n",
              "      height: 32px;\n",
              "      padding: 0 0 0 0;\n",
              "      width: 32px;\n",
              "    }\n",
              "\n",
              "    .colab-df-convert:hover {\n",
              "      background-color: #E2EBFA;\n",
              "      box-shadow: 0px 1px 2px rgba(60, 64, 67, 0.3), 0px 1px 3px 1px rgba(60, 64, 67, 0.15);\n",
              "      fill: #174EA6;\n",
              "    }\n",
              "\n",
              "    [theme=dark] .colab-df-convert {\n",
              "      background-color: #3B4455;\n",
              "      fill: #D2E3FC;\n",
              "    }\n",
              "\n",
              "    [theme=dark] .colab-df-convert:hover {\n",
              "      background-color: #434B5C;\n",
              "      box-shadow: 0px 1px 3px 1px rgba(0, 0, 0, 0.15);\n",
              "      filter: drop-shadow(0px 1px 2px rgba(0, 0, 0, 0.3));\n",
              "      fill: #FFFFFF;\n",
              "    }\n",
              "  </style>\n",
              "\n",
              "      <script>\n",
              "        const buttonEl =\n",
              "          document.querySelector('#df-07015356-a256-40b8-9b28-f5c386f71e97 button.colab-df-convert');\n",
              "        buttonEl.style.display =\n",
              "          google.colab.kernel.accessAllowed ? 'block' : 'none';\n",
              "\n",
              "        async function convertToInteractive(key) {\n",
              "          const element = document.querySelector('#df-07015356-a256-40b8-9b28-f5c386f71e97');\n",
              "          const dataTable =\n",
              "            await google.colab.kernel.invokeFunction('convertToInteractive',\n",
              "                                                     [key], {});\n",
              "          if (!dataTable) return;\n",
              "\n",
              "          const docLinkHtml = 'Like what you see? Visit the ' +\n",
              "            '<a target=\"_blank\" href=https://colab.research.google.com/notebooks/data_table.ipynb>data table notebook</a>'\n",
              "            + ' to learn more about interactive tables.';\n",
              "          element.innerHTML = '';\n",
              "          dataTable['output_type'] = 'display_data';\n",
              "          await google.colab.output.renderOutput(dataTable, element);\n",
              "          const docLink = document.createElement('div');\n",
              "          docLink.innerHTML = docLinkHtml;\n",
              "          element.appendChild(docLink);\n",
              "        }\n",
              "      </script>\n",
              "    </div>\n",
              "  </div>\n",
              "  "
            ]
          },
          "metadata": {},
          "execution_count": 45
        }
      ],
      "source": [
        "# Step 3 :\n",
        "servo"
      ]
    },
    {
      "cell_type": "code",
      "execution_count": 46,
      "id": "d3d2381a",
      "metadata": {
        "execution": {
          "iopub.execute_input": "2023-04-19T15:35:08.754138Z",
          "iopub.status.busy": "2023-04-19T15:35:08.753320Z",
          "iopub.status.idle": "2023-04-19T15:35:08.790450Z",
          "shell.execute_reply": "2023-04-19T15:35:08.788906Z"
        },
        "papermill": {
          "duration": 0.053761,
          "end_time": "2023-04-19T15:35:08.794057",
          "exception": false,
          "start_time": "2023-04-19T15:35:08.740296",
          "status": "completed"
        },
        "tags": [],
        "colab": {
          "base_uri": "https://localhost:8080/"
        },
        "id": "d3d2381a",
        "outputId": "f039f080-6719-4f26-a823-5334525c6274"
      },
      "outputs": [
        {
          "output_type": "stream",
          "name": "stdout",
          "text": [
            "<class 'pandas.core.frame.DataFrame'>\n",
            "RangeIndex: 167 entries, 0 to 166\n",
            "Data columns (total 5 columns):\n",
            " #   Column  Non-Null Count  Dtype \n",
            "---  ------  --------------  ----- \n",
            " 0   Motor   167 non-null    object\n",
            " 1   Screw   167 non-null    object\n",
            " 2   Pgain   167 non-null    int64 \n",
            " 3   Vgain   167 non-null    int64 \n",
            " 4   Class   167 non-null    int64 \n",
            "dtypes: int64(3), object(2)\n",
            "memory usage: 6.6+ KB\n"
          ]
        }
      ],
      "source": [
        "# Step 4 :\n",
        "servo.info()"
      ]
    },
    {
      "cell_type": "code",
      "execution_count": 47,
      "id": "7c43e891",
      "metadata": {
        "execution": {
          "iopub.execute_input": "2023-04-19T15:35:08.820368Z",
          "iopub.status.busy": "2023-04-19T15:35:08.819654Z",
          "iopub.status.idle": "2023-04-19T15:35:08.849540Z",
          "shell.execute_reply": "2023-04-19T15:35:08.848048Z"
        },
        "papermill": {
          "duration": 0.046331,
          "end_time": "2023-04-19T15:35:08.852984",
          "exception": false,
          "start_time": "2023-04-19T15:35:08.806653",
          "status": "completed"
        },
        "tags": [],
        "colab": {
          "base_uri": "https://localhost:8080/",
          "height": 300
        },
        "id": "7c43e891",
        "outputId": "47840b5f-0961-4165-832c-6cad5dc0d3eb"
      },
      "outputs": [
        {
          "output_type": "execute_result",
          "data": {
            "text/plain": [
              "            Pgain       Vgain       Class\n",
              "count  167.000000  167.000000  167.000000\n",
              "mean     4.155689    2.538922   21.173653\n",
              "std      1.017770    1.369850   13.908038\n",
              "min      3.000000    1.000000    1.000000\n",
              "25%      3.000000    1.000000   10.500000\n",
              "50%      4.000000    2.000000   18.000000\n",
              "75%      5.000000    4.000000   33.500000\n",
              "max      6.000000    5.000000   51.000000"
            ],
            "text/html": [
              "\n",
              "  <div id=\"df-730832cd-c81d-4bf0-b3f7-f37f29c3f6fa\">\n",
              "    <div class=\"colab-df-container\">\n",
              "      <div>\n",
              "<style scoped>\n",
              "    .dataframe tbody tr th:only-of-type {\n",
              "        vertical-align: middle;\n",
              "    }\n",
              "\n",
              "    .dataframe tbody tr th {\n",
              "        vertical-align: top;\n",
              "    }\n",
              "\n",
              "    .dataframe thead th {\n",
              "        text-align: right;\n",
              "    }\n",
              "</style>\n",
              "<table border=\"1\" class=\"dataframe\">\n",
              "  <thead>\n",
              "    <tr style=\"text-align: right;\">\n",
              "      <th></th>\n",
              "      <th>Pgain</th>\n",
              "      <th>Vgain</th>\n",
              "      <th>Class</th>\n",
              "    </tr>\n",
              "  </thead>\n",
              "  <tbody>\n",
              "    <tr>\n",
              "      <th>count</th>\n",
              "      <td>167.000000</td>\n",
              "      <td>167.000000</td>\n",
              "      <td>167.000000</td>\n",
              "    </tr>\n",
              "    <tr>\n",
              "      <th>mean</th>\n",
              "      <td>4.155689</td>\n",
              "      <td>2.538922</td>\n",
              "      <td>21.173653</td>\n",
              "    </tr>\n",
              "    <tr>\n",
              "      <th>std</th>\n",
              "      <td>1.017770</td>\n",
              "      <td>1.369850</td>\n",
              "      <td>13.908038</td>\n",
              "    </tr>\n",
              "    <tr>\n",
              "      <th>min</th>\n",
              "      <td>3.000000</td>\n",
              "      <td>1.000000</td>\n",
              "      <td>1.000000</td>\n",
              "    </tr>\n",
              "    <tr>\n",
              "      <th>25%</th>\n",
              "      <td>3.000000</td>\n",
              "      <td>1.000000</td>\n",
              "      <td>10.500000</td>\n",
              "    </tr>\n",
              "    <tr>\n",
              "      <th>50%</th>\n",
              "      <td>4.000000</td>\n",
              "      <td>2.000000</td>\n",
              "      <td>18.000000</td>\n",
              "    </tr>\n",
              "    <tr>\n",
              "      <th>75%</th>\n",
              "      <td>5.000000</td>\n",
              "      <td>4.000000</td>\n",
              "      <td>33.500000</td>\n",
              "    </tr>\n",
              "    <tr>\n",
              "      <th>max</th>\n",
              "      <td>6.000000</td>\n",
              "      <td>5.000000</td>\n",
              "      <td>51.000000</td>\n",
              "    </tr>\n",
              "  </tbody>\n",
              "</table>\n",
              "</div>\n",
              "      <button class=\"colab-df-convert\" onclick=\"convertToInteractive('df-730832cd-c81d-4bf0-b3f7-f37f29c3f6fa')\"\n",
              "              title=\"Convert this dataframe to an interactive table.\"\n",
              "              style=\"display:none;\">\n",
              "        \n",
              "  <svg xmlns=\"http://www.w3.org/2000/svg\" height=\"24px\"viewBox=\"0 0 24 24\"\n",
              "       width=\"24px\">\n",
              "    <path d=\"M0 0h24v24H0V0z\" fill=\"none\"/>\n",
              "    <path d=\"M18.56 5.44l.94 2.06.94-2.06 2.06-.94-2.06-.94-.94-2.06-.94 2.06-2.06.94zm-11 1L8.5 8.5l.94-2.06 2.06-.94-2.06-.94L8.5 2.5l-.94 2.06-2.06.94zm10 10l.94 2.06.94-2.06 2.06-.94-2.06-.94-.94-2.06-.94 2.06-2.06.94z\"/><path d=\"M17.41 7.96l-1.37-1.37c-.4-.4-.92-.59-1.43-.59-.52 0-1.04.2-1.43.59L10.3 9.45l-7.72 7.72c-.78.78-.78 2.05 0 2.83L4 21.41c.39.39.9.59 1.41.59.51 0 1.02-.2 1.41-.59l7.78-7.78 2.81-2.81c.8-.78.8-2.07 0-2.86zM5.41 20L4 18.59l7.72-7.72 1.47 1.35L5.41 20z\"/>\n",
              "  </svg>\n",
              "      </button>\n",
              "      \n",
              "  <style>\n",
              "    .colab-df-container {\n",
              "      display:flex;\n",
              "      flex-wrap:wrap;\n",
              "      gap: 12px;\n",
              "    }\n",
              "\n",
              "    .colab-df-convert {\n",
              "      background-color: #E8F0FE;\n",
              "      border: none;\n",
              "      border-radius: 50%;\n",
              "      cursor: pointer;\n",
              "      display: none;\n",
              "      fill: #1967D2;\n",
              "      height: 32px;\n",
              "      padding: 0 0 0 0;\n",
              "      width: 32px;\n",
              "    }\n",
              "\n",
              "    .colab-df-convert:hover {\n",
              "      background-color: #E2EBFA;\n",
              "      box-shadow: 0px 1px 2px rgba(60, 64, 67, 0.3), 0px 1px 3px 1px rgba(60, 64, 67, 0.15);\n",
              "      fill: #174EA6;\n",
              "    }\n",
              "\n",
              "    [theme=dark] .colab-df-convert {\n",
              "      background-color: #3B4455;\n",
              "      fill: #D2E3FC;\n",
              "    }\n",
              "\n",
              "    [theme=dark] .colab-df-convert:hover {\n",
              "      background-color: #434B5C;\n",
              "      box-shadow: 0px 1px 3px 1px rgba(0, 0, 0, 0.15);\n",
              "      filter: drop-shadow(0px 1px 2px rgba(0, 0, 0, 0.3));\n",
              "      fill: #FFFFFF;\n",
              "    }\n",
              "  </style>\n",
              "\n",
              "      <script>\n",
              "        const buttonEl =\n",
              "          document.querySelector('#df-730832cd-c81d-4bf0-b3f7-f37f29c3f6fa button.colab-df-convert');\n",
              "        buttonEl.style.display =\n",
              "          google.colab.kernel.accessAllowed ? 'block' : 'none';\n",
              "\n",
              "        async function convertToInteractive(key) {\n",
              "          const element = document.querySelector('#df-730832cd-c81d-4bf0-b3f7-f37f29c3f6fa');\n",
              "          const dataTable =\n",
              "            await google.colab.kernel.invokeFunction('convertToInteractive',\n",
              "                                                     [key], {});\n",
              "          if (!dataTable) return;\n",
              "\n",
              "          const docLinkHtml = 'Like what you see? Visit the ' +\n",
              "            '<a target=\"_blank\" href=https://colab.research.google.com/notebooks/data_table.ipynb>data table notebook</a>'\n",
              "            + ' to learn more about interactive tables.';\n",
              "          element.innerHTML = '';\n",
              "          dataTable['output_type'] = 'display_data';\n",
              "          await google.colab.output.renderOutput(dataTable, element);\n",
              "          const docLink = document.createElement('div');\n",
              "          docLink.innerHTML = docLinkHtml;\n",
              "          element.appendChild(docLink);\n",
              "        }\n",
              "      </script>\n",
              "    </div>\n",
              "  </div>\n",
              "  "
            ]
          },
          "metadata": {},
          "execution_count": 47
        }
      ],
      "source": [
        "# Step 5 : Describe Data\n",
        "servo.describe()"
      ]
    },
    {
      "cell_type": "markdown",
      "source": [
        "## **Data Preprocessing**\n",
        "\n",
        "\n"
      ],
      "metadata": {
        "id": "ZCCAIKLM0_2z"
      },
      "id": "ZCCAIKLM0_2z"
    },
    {
      "cell_type": "code",
      "execution_count": 48,
      "id": "385be9cd",
      "metadata": {
        "execution": {
          "iopub.execute_input": "2023-04-19T15:35:08.880270Z",
          "iopub.status.busy": "2023-04-19T15:35:08.878485Z",
          "iopub.status.idle": "2023-04-19T15:35:08.888903Z",
          "shell.execute_reply": "2023-04-19T15:35:08.886991Z"
        },
        "papermill": {
          "duration": 0.027778,
          "end_time": "2023-04-19T15:35:08.892374",
          "exception": false,
          "start_time": "2023-04-19T15:35:08.864596",
          "status": "completed"
        },
        "tags": [],
        "colab": {
          "base_uri": "https://localhost:8080/"
        },
        "id": "385be9cd",
        "outputId": "b99a68e2-5fdf-469c-c8ef-ceac0925c65f"
      },
      "outputs": [
        {
          "output_type": "execute_result",
          "data": {
            "text/plain": [
              "Index(['Motor', 'Screw', 'Pgain', 'Vgain', 'Class'], dtype='object')"
            ]
          },
          "metadata": {},
          "execution_count": 48
        }
      ],
      "source": [
        "servo.columns"
      ]
    },
    {
      "cell_type": "code",
      "execution_count": 49,
      "id": "efe6ad02",
      "metadata": {
        "execution": {
          "iopub.execute_input": "2023-04-19T15:35:08.916095Z",
          "iopub.status.busy": "2023-04-19T15:35:08.915534Z",
          "iopub.status.idle": "2023-04-19T15:35:08.926513Z",
          "shell.execute_reply": "2023-04-19T15:35:08.924434Z"
        },
        "papermill": {
          "duration": 0.027629,
          "end_time": "2023-04-19T15:35:08.930410",
          "exception": false,
          "start_time": "2023-04-19T15:35:08.902781",
          "status": "completed"
        },
        "tags": [],
        "colab": {
          "base_uri": "https://localhost:8080/"
        },
        "id": "efe6ad02",
        "outputId": "084e03c0-1a8d-40ce-ea88-65203e3819d8"
      },
      "outputs": [
        {
          "output_type": "execute_result",
          "data": {
            "text/plain": [
              "(167, 5)"
            ]
          },
          "metadata": {},
          "execution_count": 49
        }
      ],
      "source": [
        "servo.shape"
      ]
    },
    {
      "cell_type": "code",
      "execution_count": 50,
      "id": "39695293",
      "metadata": {
        "execution": {
          "iopub.execute_input": "2023-04-19T15:35:08.955759Z",
          "iopub.status.busy": "2023-04-19T15:35:08.955250Z",
          "iopub.status.idle": "2023-04-19T15:35:08.972675Z",
          "shell.execute_reply": "2023-04-19T15:35:08.971139Z"
        },
        "papermill": {
          "duration": 0.034643,
          "end_time": "2023-04-19T15:35:08.976239",
          "exception": false,
          "start_time": "2023-04-19T15:35:08.941596",
          "status": "completed"
        },
        "tags": [],
        "colab": {
          "base_uri": "https://localhost:8080/"
        },
        "id": "39695293",
        "outputId": "4366152c-7f64-4e33-92bb-c085cdb893fa"
      },
      "outputs": [
        {
          "output_type": "execute_result",
          "data": {
            "text/plain": [
              "Motor\n",
              "C        40\n",
              "A        36\n",
              "B        36\n",
              "E        33\n",
              "D        22\n",
              "dtype: int64"
            ]
          },
          "metadata": {},
          "execution_count": 50
        }
      ],
      "source": [
        "servo[['Motor']].value_counts()"
      ]
    },
    {
      "cell_type": "code",
      "execution_count": 51,
      "id": "3db02d9e",
      "metadata": {
        "execution": {
          "iopub.execute_input": "2023-04-19T15:35:09.001497Z",
          "iopub.status.busy": "2023-04-19T15:35:09.001045Z",
          "iopub.status.idle": "2023-04-19T15:35:09.015412Z",
          "shell.execute_reply": "2023-04-19T15:35:09.013180Z"
        },
        "papermill": {
          "duration": 0.032501,
          "end_time": "2023-04-19T15:35:09.020402",
          "exception": false,
          "start_time": "2023-04-19T15:35:08.987901",
          "status": "completed"
        },
        "tags": [],
        "colab": {
          "base_uri": "https://localhost:8080/"
        },
        "id": "3db02d9e",
        "outputId": "7b6be2c5-a029-43de-9f0e-9a30c67dd865"
      },
      "outputs": [
        {
          "output_type": "execute_result",
          "data": {
            "text/plain": [
              "Screw\n",
              "A        42\n",
              "B        35\n",
              "C        31\n",
              "D        30\n",
              "E        29\n",
              "dtype: int64"
            ]
          },
          "metadata": {},
          "execution_count": 51
        }
      ],
      "source": [
        "servo[['Screw']].value_counts()"
      ]
    },
    {
      "cell_type": "code",
      "execution_count": 52,
      "id": "a51003b2",
      "metadata": {
        "execution": {
          "iopub.execute_input": "2023-04-19T15:35:09.047029Z",
          "iopub.status.busy": "2023-04-19T15:35:09.046556Z",
          "iopub.status.idle": "2023-04-19T15:35:09.055255Z",
          "shell.execute_reply": "2023-04-19T15:35:09.053738Z"
        },
        "papermill": {
          "duration": 0.026478,
          "end_time": "2023-04-19T15:35:09.058405",
          "exception": false,
          "start_time": "2023-04-19T15:35:09.031927",
          "status": "completed"
        },
        "tags": [],
        "id": "a51003b2"
      },
      "outputs": [],
      "source": [
        "servo.replace({ 'Motor':{'A': 0, 'B':1, 'C':2, 'D': 3, 'E' :4}},inplace=True)"
      ]
    },
    {
      "cell_type": "code",
      "execution_count": 53,
      "id": "25fc6011",
      "metadata": {
        "execution": {
          "iopub.execute_input": "2023-04-19T15:35:09.083925Z",
          "iopub.status.busy": "2023-04-19T15:35:09.083467Z",
          "iopub.status.idle": "2023-04-19T15:35:09.092084Z",
          "shell.execute_reply": "2023-04-19T15:35:09.090993Z"
        },
        "papermill": {
          "duration": 0.02587,
          "end_time": "2023-04-19T15:35:09.095501",
          "exception": false,
          "start_time": "2023-04-19T15:35:09.069631",
          "status": "completed"
        },
        "tags": [],
        "id": "25fc6011"
      },
      "outputs": [],
      "source": [
        "servo.replace({ 'Screw':{'A': 0, 'B':1, 'C':2, 'D': 3, 'E' :4}},inplace=True)"
      ]
    },
    {
      "cell_type": "markdown",
      "source": [
        "## **Define Target variable and Feature variables**"
      ],
      "metadata": {
        "id": "f4CsyBpG1NYp"
      },
      "id": "f4CsyBpG1NYp"
    },
    {
      "cell_type": "code",
      "execution_count": 54,
      "id": "5cc25ba3",
      "metadata": {
        "execution": {
          "iopub.execute_input": "2023-04-19T15:35:09.124103Z",
          "iopub.status.busy": "2023-04-19T15:35:09.123616Z",
          "iopub.status.idle": "2023-04-19T15:35:09.132300Z",
          "shell.execute_reply": "2023-04-19T15:35:09.130591Z"
        },
        "papermill": {
          "duration": 0.025062,
          "end_time": "2023-04-19T15:35:09.135178",
          "exception": false,
          "start_time": "2023-04-19T15:35:09.110116",
          "status": "completed"
        },
        "tags": [],
        "id": "5cc25ba3"
      },
      "outputs": [],
      "source": [
        "# Step 6 : Define Target Variable (y) and Feature Variables (X)\n",
        "y = servo['Class']"
      ]
    },
    {
      "cell_type": "code",
      "execution_count": 55,
      "id": "03efbbcb",
      "metadata": {
        "execution": {
          "iopub.execute_input": "2023-04-19T15:35:09.160893Z",
          "iopub.status.busy": "2023-04-19T15:35:09.159986Z",
          "iopub.status.idle": "2023-04-19T15:35:09.167682Z",
          "shell.execute_reply": "2023-04-19T15:35:09.166152Z"
        },
        "papermill": {
          "duration": 0.024518,
          "end_time": "2023-04-19T15:35:09.170974",
          "exception": false,
          "start_time": "2023-04-19T15:35:09.146456",
          "status": "completed"
        },
        "tags": [],
        "colab": {
          "base_uri": "https://localhost:8080/"
        },
        "id": "03efbbcb",
        "outputId": "143a6a82-be72-4d02-88db-69bc660d0f07"
      },
      "outputs": [
        {
          "output_type": "execute_result",
          "data": {
            "text/plain": [
              "(167,)"
            ]
          },
          "metadata": {},
          "execution_count": 55
        }
      ],
      "source": [
        "y.shape"
      ]
    },
    {
      "cell_type": "code",
      "execution_count": 56,
      "id": "840fa30c",
      "metadata": {
        "execution": {
          "iopub.execute_input": "2023-04-19T15:35:09.197446Z",
          "iopub.status.busy": "2023-04-19T15:35:09.196584Z",
          "iopub.status.idle": "2023-04-19T15:35:09.205362Z",
          "shell.execute_reply": "2023-04-19T15:35:09.204340Z"
        },
        "papermill": {
          "duration": 0.024975,
          "end_time": "2023-04-19T15:35:09.208420",
          "exception": false,
          "start_time": "2023-04-19T15:35:09.183445",
          "status": "completed"
        },
        "tags": [],
        "colab": {
          "base_uri": "https://localhost:8080/"
        },
        "id": "840fa30c",
        "outputId": "d4f07982-ccae-4800-eb37-b26aa6039332"
      },
      "outputs": [
        {
          "output_type": "execute_result",
          "data": {
            "text/plain": [
              "0       4\n",
              "1      11\n",
              "2       6\n",
              "3      48\n",
              "4       6\n",
              "       ..\n",
              "162    44\n",
              "163    40\n",
              "164    25\n",
              "165    44\n",
              "166    20\n",
              "Name: Class, Length: 167, dtype: int64"
            ]
          },
          "metadata": {},
          "execution_count": 56
        }
      ],
      "source": [
        "y"
      ]
    },
    {
      "cell_type": "code",
      "execution_count": 57,
      "id": "13e57797",
      "metadata": {
        "execution": {
          "iopub.execute_input": "2023-04-19T15:35:09.235053Z",
          "iopub.status.busy": "2023-04-19T15:35:09.234066Z",
          "iopub.status.idle": "2023-04-19T15:35:09.242325Z",
          "shell.execute_reply": "2023-04-19T15:35:09.240829Z"
        },
        "papermill": {
          "duration": 0.025797,
          "end_time": "2023-04-19T15:35:09.245698",
          "exception": false,
          "start_time": "2023-04-19T15:35:09.219901",
          "status": "completed"
        },
        "tags": [],
        "id": "13e57797"
      },
      "outputs": [],
      "source": [
        "X = servo[['Motor', 'Screw', 'Pgain', 'Vgain']]"
      ]
    },
    {
      "cell_type": "code",
      "execution_count": 58,
      "id": "cc309f1f",
      "metadata": {
        "execution": {
          "iopub.execute_input": "2023-04-19T15:35:09.275013Z",
          "iopub.status.busy": "2023-04-19T15:35:09.274116Z",
          "iopub.status.idle": "2023-04-19T15:35:09.281854Z",
          "shell.execute_reply": "2023-04-19T15:35:09.280491Z"
        },
        "papermill": {
          "duration": 0.026437,
          "end_time": "2023-04-19T15:35:09.285791",
          "exception": false,
          "start_time": "2023-04-19T15:35:09.259354",
          "status": "completed"
        },
        "tags": [],
        "id": "cc309f1f"
      },
      "outputs": [],
      "source": [
        "X = servo.drop('Class', axis=1)"
      ]
    },
    {
      "cell_type": "code",
      "execution_count": 59,
      "id": "b67c10f6",
      "metadata": {
        "execution": {
          "iopub.execute_input": "2023-04-19T15:35:09.311036Z",
          "iopub.status.busy": "2023-04-19T15:35:09.310234Z",
          "iopub.status.idle": "2023-04-19T15:35:09.319404Z",
          "shell.execute_reply": "2023-04-19T15:35:09.317491Z"
        },
        "papermill": {
          "duration": 0.026398,
          "end_time": "2023-04-19T15:35:09.323204",
          "exception": false,
          "start_time": "2023-04-19T15:35:09.296806",
          "status": "completed"
        },
        "tags": [],
        "colab": {
          "base_uri": "https://localhost:8080/"
        },
        "id": "b67c10f6",
        "outputId": "8089c385-45fb-422b-879b-78ec5c61df6e"
      },
      "outputs": [
        {
          "output_type": "execute_result",
          "data": {
            "text/plain": [
              "(167, 4)"
            ]
          },
          "metadata": {},
          "execution_count": 59
        }
      ],
      "source": [
        "X.shape"
      ]
    },
    {
      "cell_type": "code",
      "execution_count": 60,
      "id": "617cdbdf",
      "metadata": {
        "execution": {
          "iopub.execute_input": "2023-04-19T15:35:09.348684Z",
          "iopub.status.busy": "2023-04-19T15:35:09.348110Z",
          "iopub.status.idle": "2023-04-19T15:35:09.364022Z",
          "shell.execute_reply": "2023-04-19T15:35:09.362383Z"
        },
        "papermill": {
          "duration": 0.032466,
          "end_time": "2023-04-19T15:35:09.366989",
          "exception": false,
          "start_time": "2023-04-19T15:35:09.334523",
          "status": "completed"
        },
        "tags": [],
        "colab": {
          "base_uri": "https://localhost:8080/",
          "height": 423
        },
        "id": "617cdbdf",
        "outputId": "7becdf23-dfda-4cb5-f536-e7544885ec66"
      },
      "outputs": [
        {
          "output_type": "execute_result",
          "data": {
            "text/plain": [
              "     Motor  Screw  Pgain  Vgain\n",
              "0        4      4      5      4\n",
              "1        1      3      6      5\n",
              "2        3      3      4      3\n",
              "3        1      0      3      2\n",
              "4        3      1      6      5\n",
              "..     ...    ...    ...    ...\n",
              "162      1      2      3      2\n",
              "163      1      4      3      1\n",
              "164      2      3      4      3\n",
              "165      0      1      3      2\n",
              "166      0      0      6      5\n",
              "\n",
              "[167 rows x 4 columns]"
            ],
            "text/html": [
              "\n",
              "  <div id=\"df-78e64e58-77fa-4064-aa04-047d0711afc9\">\n",
              "    <div class=\"colab-df-container\">\n",
              "      <div>\n",
              "<style scoped>\n",
              "    .dataframe tbody tr th:only-of-type {\n",
              "        vertical-align: middle;\n",
              "    }\n",
              "\n",
              "    .dataframe tbody tr th {\n",
              "        vertical-align: top;\n",
              "    }\n",
              "\n",
              "    .dataframe thead th {\n",
              "        text-align: right;\n",
              "    }\n",
              "</style>\n",
              "<table border=\"1\" class=\"dataframe\">\n",
              "  <thead>\n",
              "    <tr style=\"text-align: right;\">\n",
              "      <th></th>\n",
              "      <th>Motor</th>\n",
              "      <th>Screw</th>\n",
              "      <th>Pgain</th>\n",
              "      <th>Vgain</th>\n",
              "    </tr>\n",
              "  </thead>\n",
              "  <tbody>\n",
              "    <tr>\n",
              "      <th>0</th>\n",
              "      <td>4</td>\n",
              "      <td>4</td>\n",
              "      <td>5</td>\n",
              "      <td>4</td>\n",
              "    </tr>\n",
              "    <tr>\n",
              "      <th>1</th>\n",
              "      <td>1</td>\n",
              "      <td>3</td>\n",
              "      <td>6</td>\n",
              "      <td>5</td>\n",
              "    </tr>\n",
              "    <tr>\n",
              "      <th>2</th>\n",
              "      <td>3</td>\n",
              "      <td>3</td>\n",
              "      <td>4</td>\n",
              "      <td>3</td>\n",
              "    </tr>\n",
              "    <tr>\n",
              "      <th>3</th>\n",
              "      <td>1</td>\n",
              "      <td>0</td>\n",
              "      <td>3</td>\n",
              "      <td>2</td>\n",
              "    </tr>\n",
              "    <tr>\n",
              "      <th>4</th>\n",
              "      <td>3</td>\n",
              "      <td>1</td>\n",
              "      <td>6</td>\n",
              "      <td>5</td>\n",
              "    </tr>\n",
              "    <tr>\n",
              "      <th>...</th>\n",
              "      <td>...</td>\n",
              "      <td>...</td>\n",
              "      <td>...</td>\n",
              "      <td>...</td>\n",
              "    </tr>\n",
              "    <tr>\n",
              "      <th>162</th>\n",
              "      <td>1</td>\n",
              "      <td>2</td>\n",
              "      <td>3</td>\n",
              "      <td>2</td>\n",
              "    </tr>\n",
              "    <tr>\n",
              "      <th>163</th>\n",
              "      <td>1</td>\n",
              "      <td>4</td>\n",
              "      <td>3</td>\n",
              "      <td>1</td>\n",
              "    </tr>\n",
              "    <tr>\n",
              "      <th>164</th>\n",
              "      <td>2</td>\n",
              "      <td>3</td>\n",
              "      <td>4</td>\n",
              "      <td>3</td>\n",
              "    </tr>\n",
              "    <tr>\n",
              "      <th>165</th>\n",
              "      <td>0</td>\n",
              "      <td>1</td>\n",
              "      <td>3</td>\n",
              "      <td>2</td>\n",
              "    </tr>\n",
              "    <tr>\n",
              "      <th>166</th>\n",
              "      <td>0</td>\n",
              "      <td>0</td>\n",
              "      <td>6</td>\n",
              "      <td>5</td>\n",
              "    </tr>\n",
              "  </tbody>\n",
              "</table>\n",
              "<p>167 rows × 4 columns</p>\n",
              "</div>\n",
              "      <button class=\"colab-df-convert\" onclick=\"convertToInteractive('df-78e64e58-77fa-4064-aa04-047d0711afc9')\"\n",
              "              title=\"Convert this dataframe to an interactive table.\"\n",
              "              style=\"display:none;\">\n",
              "        \n",
              "  <svg xmlns=\"http://www.w3.org/2000/svg\" height=\"24px\"viewBox=\"0 0 24 24\"\n",
              "       width=\"24px\">\n",
              "    <path d=\"M0 0h24v24H0V0z\" fill=\"none\"/>\n",
              "    <path d=\"M18.56 5.44l.94 2.06.94-2.06 2.06-.94-2.06-.94-.94-2.06-.94 2.06-2.06.94zm-11 1L8.5 8.5l.94-2.06 2.06-.94-2.06-.94L8.5 2.5l-.94 2.06-2.06.94zm10 10l.94 2.06.94-2.06 2.06-.94-2.06-.94-.94-2.06-.94 2.06-2.06.94z\"/><path d=\"M17.41 7.96l-1.37-1.37c-.4-.4-.92-.59-1.43-.59-.52 0-1.04.2-1.43.59L10.3 9.45l-7.72 7.72c-.78.78-.78 2.05 0 2.83L4 21.41c.39.39.9.59 1.41.59.51 0 1.02-.2 1.41-.59l7.78-7.78 2.81-2.81c.8-.78.8-2.07 0-2.86zM5.41 20L4 18.59l7.72-7.72 1.47 1.35L5.41 20z\"/>\n",
              "  </svg>\n",
              "      </button>\n",
              "      \n",
              "  <style>\n",
              "    .colab-df-container {\n",
              "      display:flex;\n",
              "      flex-wrap:wrap;\n",
              "      gap: 12px;\n",
              "    }\n",
              "\n",
              "    .colab-df-convert {\n",
              "      background-color: #E8F0FE;\n",
              "      border: none;\n",
              "      border-radius: 50%;\n",
              "      cursor: pointer;\n",
              "      display: none;\n",
              "      fill: #1967D2;\n",
              "      height: 32px;\n",
              "      padding: 0 0 0 0;\n",
              "      width: 32px;\n",
              "    }\n",
              "\n",
              "    .colab-df-convert:hover {\n",
              "      background-color: #E2EBFA;\n",
              "      box-shadow: 0px 1px 2px rgba(60, 64, 67, 0.3), 0px 1px 3px 1px rgba(60, 64, 67, 0.15);\n",
              "      fill: #174EA6;\n",
              "    }\n",
              "\n",
              "    [theme=dark] .colab-df-convert {\n",
              "      background-color: #3B4455;\n",
              "      fill: #D2E3FC;\n",
              "    }\n",
              "\n",
              "    [theme=dark] .colab-df-convert:hover {\n",
              "      background-color: #434B5C;\n",
              "      box-shadow: 0px 1px 3px 1px rgba(0, 0, 0, 0.15);\n",
              "      filter: drop-shadow(0px 1px 2px rgba(0, 0, 0, 0.3));\n",
              "      fill: #FFFFFF;\n",
              "    }\n",
              "  </style>\n",
              "\n",
              "      <script>\n",
              "        const buttonEl =\n",
              "          document.querySelector('#df-78e64e58-77fa-4064-aa04-047d0711afc9 button.colab-df-convert');\n",
              "        buttonEl.style.display =\n",
              "          google.colab.kernel.accessAllowed ? 'block' : 'none';\n",
              "\n",
              "        async function convertToInteractive(key) {\n",
              "          const element = document.querySelector('#df-78e64e58-77fa-4064-aa04-047d0711afc9');\n",
              "          const dataTable =\n",
              "            await google.colab.kernel.invokeFunction('convertToInteractive',\n",
              "                                                     [key], {});\n",
              "          if (!dataTable) return;\n",
              "\n",
              "          const docLinkHtml = 'Like what you see? Visit the ' +\n",
              "            '<a target=\"_blank\" href=https://colab.research.google.com/notebooks/data_table.ipynb>data table notebook</a>'\n",
              "            + ' to learn more about interactive tables.';\n",
              "          element.innerHTML = '';\n",
              "          dataTable['output_type'] = 'display_data';\n",
              "          await google.colab.output.renderOutput(dataTable, element);\n",
              "          const docLink = document.createElement('div');\n",
              "          docLink.innerHTML = docLinkHtml;\n",
              "          element.appendChild(docLink);\n",
              "        }\n",
              "      </script>\n",
              "    </div>\n",
              "  </div>\n",
              "  "
            ]
          },
          "metadata": {},
          "execution_count": 60
        }
      ],
      "source": [
        "X"
      ]
    },
    {
      "cell_type": "markdown",
      "source": [
        "## **Train Test Split**"
      ],
      "metadata": {
        "id": "nzjSgNME1UeP"
      },
      "id": "nzjSgNME1UeP"
    },
    {
      "cell_type": "code",
      "execution_count": 61,
      "id": "638dab56",
      "metadata": {
        "execution": {
          "iopub.execute_input": "2023-04-19T15:35:11.086606Z",
          "iopub.status.busy": "2023-04-19T15:35:11.086132Z",
          "iopub.status.idle": "2023-04-19T15:35:11.098329Z",
          "shell.execute_reply": "2023-04-19T15:35:11.096420Z"
        },
        "papermill": {
          "duration": 0.029258,
          "end_time": "2023-04-19T15:35:11.101514",
          "exception": false,
          "start_time": "2023-04-19T15:35:11.072256",
          "status": "completed"
        },
        "tags": [],
        "id": "638dab56"
      },
      "outputs": [],
      "source": [
        "X_train, X_test, y_train, y_test = train_test_split(X,y,test_size = 0.3, random_state=2529)"
      ]
    },
    {
      "cell_type": "code",
      "execution_count": 62,
      "id": "da0c79e5",
      "metadata": {
        "execution": {
          "iopub.execute_input": "2023-04-19T15:35:11.126952Z",
          "iopub.status.busy": "2023-04-19T15:35:11.126463Z",
          "iopub.status.idle": "2023-04-19T15:35:11.134557Z",
          "shell.execute_reply": "2023-04-19T15:35:11.133436Z"
        },
        "papermill": {
          "duration": 0.02485,
          "end_time": "2023-04-19T15:35:11.137634",
          "exception": false,
          "start_time": "2023-04-19T15:35:11.112784",
          "status": "completed"
        },
        "tags": [],
        "colab": {
          "base_uri": "https://localhost:8080/"
        },
        "id": "da0c79e5",
        "outputId": "5ff69000-c01d-4954-beb9-c0b92e34ae7a"
      },
      "outputs": [
        {
          "output_type": "execute_result",
          "data": {
            "text/plain": [
              "((116, 4), (51, 4), (116,), (51,))"
            ]
          },
          "metadata": {},
          "execution_count": 62
        }
      ],
      "source": [
        "# check shape of train and test sample\n",
        "X_train.shape, X_test.shape, y_train.shape, y_test.shape"
      ]
    },
    {
      "cell_type": "markdown",
      "source": [
        "## **Modeling**"
      ],
      "metadata": {
        "id": "eZ2mgFLm1ZXM"
      },
      "id": "eZ2mgFLm1ZXM"
    },
    {
      "cell_type": "code",
      "execution_count": 63,
      "id": "cb2a9d8e",
      "metadata": {
        "execution": {
          "iopub.execute_input": "2023-04-19T15:35:11.326368Z",
          "iopub.status.busy": "2023-04-19T15:35:11.324991Z",
          "iopub.status.idle": "2023-04-19T15:35:11.332157Z",
          "shell.execute_reply": "2023-04-19T15:35:11.330430Z"
        },
        "papermill": {
          "duration": 0.025374,
          "end_time": "2023-04-19T15:35:11.335426",
          "exception": false,
          "start_time": "2023-04-19T15:35:11.310052",
          "status": "completed"
        },
        "tags": [],
        "id": "cb2a9d8e"
      },
      "outputs": [],
      "source": [
        "model = LinearRegression()"
      ]
    },
    {
      "cell_type": "code",
      "execution_count": 64,
      "id": "6f56d6b2",
      "metadata": {
        "execution": {
          "iopub.execute_input": "2023-04-19T15:35:11.364073Z",
          "iopub.status.busy": "2023-04-19T15:35:11.363233Z",
          "iopub.status.idle": "2023-04-19T15:35:11.401825Z",
          "shell.execute_reply": "2023-04-19T15:35:11.399463Z"
        },
        "papermill": {
          "duration": 0.056865,
          "end_time": "2023-04-19T15:35:11.405708",
          "exception": false,
          "start_time": "2023-04-19T15:35:11.348843",
          "status": "completed"
        },
        "tags": [],
        "colab": {
          "base_uri": "https://localhost:8080/",
          "height": 74
        },
        "id": "6f56d6b2",
        "outputId": "2694d9d2-2fce-4063-af40-29d9474b3686"
      },
      "outputs": [
        {
          "output_type": "execute_result",
          "data": {
            "text/plain": [
              "LinearRegression()"
            ],
            "text/html": [
              "<style>#sk-container-id-2 {color: black;background-color: white;}#sk-container-id-2 pre{padding: 0;}#sk-container-id-2 div.sk-toggleable {background-color: white;}#sk-container-id-2 label.sk-toggleable__label {cursor: pointer;display: block;width: 100%;margin-bottom: 0;padding: 0.3em;box-sizing: border-box;text-align: center;}#sk-container-id-2 label.sk-toggleable__label-arrow:before {content: \"▸\";float: left;margin-right: 0.25em;color: #696969;}#sk-container-id-2 label.sk-toggleable__label-arrow:hover:before {color: black;}#sk-container-id-2 div.sk-estimator:hover label.sk-toggleable__label-arrow:before {color: black;}#sk-container-id-2 div.sk-toggleable__content {max-height: 0;max-width: 0;overflow: hidden;text-align: left;background-color: #f0f8ff;}#sk-container-id-2 div.sk-toggleable__content pre {margin: 0.2em;color: black;border-radius: 0.25em;background-color: #f0f8ff;}#sk-container-id-2 input.sk-toggleable__control:checked~div.sk-toggleable__content {max-height: 200px;max-width: 100%;overflow: auto;}#sk-container-id-2 input.sk-toggleable__control:checked~label.sk-toggleable__label-arrow:before {content: \"▾\";}#sk-container-id-2 div.sk-estimator input.sk-toggleable__control:checked~label.sk-toggleable__label {background-color: #d4ebff;}#sk-container-id-2 div.sk-label input.sk-toggleable__control:checked~label.sk-toggleable__label {background-color: #d4ebff;}#sk-container-id-2 input.sk-hidden--visually {border: 0;clip: rect(1px 1px 1px 1px);clip: rect(1px, 1px, 1px, 1px);height: 1px;margin: -1px;overflow: hidden;padding: 0;position: absolute;width: 1px;}#sk-container-id-2 div.sk-estimator {font-family: monospace;background-color: #f0f8ff;border: 1px dotted black;border-radius: 0.25em;box-sizing: border-box;margin-bottom: 0.5em;}#sk-container-id-2 div.sk-estimator:hover {background-color: #d4ebff;}#sk-container-id-2 div.sk-parallel-item::after {content: \"\";width: 100%;border-bottom: 1px solid gray;flex-grow: 1;}#sk-container-id-2 div.sk-label:hover label.sk-toggleable__label {background-color: #d4ebff;}#sk-container-id-2 div.sk-serial::before {content: \"\";position: absolute;border-left: 1px solid gray;box-sizing: border-box;top: 0;bottom: 0;left: 50%;z-index: 0;}#sk-container-id-2 div.sk-serial {display: flex;flex-direction: column;align-items: center;background-color: white;padding-right: 0.2em;padding-left: 0.2em;position: relative;}#sk-container-id-2 div.sk-item {position: relative;z-index: 1;}#sk-container-id-2 div.sk-parallel {display: flex;align-items: stretch;justify-content: center;background-color: white;position: relative;}#sk-container-id-2 div.sk-item::before, #sk-container-id-2 div.sk-parallel-item::before {content: \"\";position: absolute;border-left: 1px solid gray;box-sizing: border-box;top: 0;bottom: 0;left: 50%;z-index: -1;}#sk-container-id-2 div.sk-parallel-item {display: flex;flex-direction: column;z-index: 1;position: relative;background-color: white;}#sk-container-id-2 div.sk-parallel-item:first-child::after {align-self: flex-end;width: 50%;}#sk-container-id-2 div.sk-parallel-item:last-child::after {align-self: flex-start;width: 50%;}#sk-container-id-2 div.sk-parallel-item:only-child::after {width: 0;}#sk-container-id-2 div.sk-dashed-wrapped {border: 1px dashed gray;margin: 0 0.4em 0.5em 0.4em;box-sizing: border-box;padding-bottom: 0.4em;background-color: white;}#sk-container-id-2 div.sk-label label {font-family: monospace;font-weight: bold;display: inline-block;line-height: 1.2em;}#sk-container-id-2 div.sk-label-container {text-align: center;}#sk-container-id-2 div.sk-container {/* jupyter's `normalize.less` sets `[hidden] { display: none; }` but bootstrap.min.css set `[hidden] { display: none !important; }` so we also need the `!important` here to be able to override the default hidden behavior on the sphinx rendered scikit-learn.org. See: https://github.com/scikit-learn/scikit-learn/issues/21755 */display: inline-block !important;position: relative;}#sk-container-id-2 div.sk-text-repr-fallback {display: none;}</style><div id=\"sk-container-id-2\" class=\"sk-top-container\"><div class=\"sk-text-repr-fallback\"><pre>LinearRegression()</pre><b>In a Jupyter environment, please rerun this cell to show the HTML representation or trust the notebook. <br />On GitHub, the HTML representation is unable to render, please try loading this page with nbviewer.org.</b></div><div class=\"sk-container\" hidden><div class=\"sk-item\"><div class=\"sk-estimator sk-toggleable\"><input class=\"sk-toggleable__control sk-hidden--visually\" id=\"sk-estimator-id-2\" type=\"checkbox\" checked><label for=\"sk-estimator-id-2\" class=\"sk-toggleable__label sk-toggleable__label-arrow\">LinearRegression</label><div class=\"sk-toggleable__content\"><pre>LinearRegression()</pre></div></div></div></div></div>"
            ]
          },
          "metadata": {},
          "execution_count": 64
        }
      ],
      "source": [
        "# Step 9 : train or fit model\n",
        "model.fit(X_train,y_train)"
      ]
    },
    {
      "cell_type": "code",
      "execution_count": 65,
      "id": "27e1eb61",
      "metadata": {
        "execution": {
          "iopub.execute_input": "2023-04-19T15:35:11.434836Z",
          "iopub.status.busy": "2023-04-19T15:35:11.433290Z",
          "iopub.status.idle": "2023-04-19T15:35:11.443643Z",
          "shell.execute_reply": "2023-04-19T15:35:11.441463Z"
        },
        "papermill": {
          "duration": 0.028188,
          "end_time": "2023-04-19T15:35:11.446697",
          "exception": false,
          "start_time": "2023-04-19T15:35:11.418509",
          "status": "completed"
        },
        "tags": [],
        "id": "27e1eb61"
      },
      "outputs": [],
      "source": [
        "y_pred = model.predict(X_test)"
      ]
    },
    {
      "cell_type": "code",
      "execution_count": 66,
      "id": "7d6c494f",
      "metadata": {
        "execution": {
          "iopub.execute_input": "2023-04-19T15:35:11.476254Z",
          "iopub.status.busy": "2023-04-19T15:35:11.475710Z",
          "iopub.status.idle": "2023-04-19T15:35:11.485143Z",
          "shell.execute_reply": "2023-04-19T15:35:11.483475Z"
        },
        "papermill": {
          "duration": 0.028275,
          "end_time": "2023-04-19T15:35:11.488463",
          "exception": false,
          "start_time": "2023-04-19T15:35:11.460188",
          "status": "completed"
        },
        "tags": [],
        "colab": {
          "base_uri": "https://localhost:8080/"
        },
        "id": "7d6c494f",
        "outputId": "df96271d-cf7a-420b-d820-ece12f7b112b"
      },
      "outputs": [
        {
          "output_type": "execute_result",
          "data": {
            "text/plain": [
              "(51,)"
            ]
          },
          "metadata": {},
          "execution_count": 66
        }
      ],
      "source": [
        "y_pred.shape"
      ]
    },
    {
      "cell_type": "code",
      "execution_count": 67,
      "id": "09d7d77a",
      "metadata": {
        "execution": {
          "iopub.execute_input": "2023-04-19T15:35:11.518264Z",
          "iopub.status.busy": "2023-04-19T15:35:11.517765Z",
          "iopub.status.idle": "2023-04-19T15:35:11.529516Z",
          "shell.execute_reply": "2023-04-19T15:35:11.527571Z"
        },
        "papermill": {
          "duration": 0.030168,
          "end_time": "2023-04-19T15:35:11.533834",
          "exception": false,
          "start_time": "2023-04-19T15:35:11.503666",
          "status": "completed"
        },
        "tags": [],
        "colab": {
          "base_uri": "https://localhost:8080/"
        },
        "id": "09d7d77a",
        "outputId": "ea99f22f-8949-41e1-a0a1-89820b97444b"
      },
      "outputs": [
        {
          "output_type": "execute_result",
          "data": {
            "text/plain": [
              "array([24.55945258, 30.98765106, 18.54485477, 25.51524243, 38.56082023,\n",
              "       23.52007775, 11.61947065, 20.03335614, 40.60404401, 41.7009556 ,\n",
              "       13.66269443, 26.01242807, 16.50163099, 16.54663453, 21.92598051,\n",
              "       22.52570646, -5.46449561, 30.68912392, 32.7323477 ,  1.41282941,\n",
              "       33.97718702, 31.63543611, 33.52806048, 30.04133887, 19.38557109,\n",
              "        6.49364826, 28.5528375 , 17.04382017, 25.06611589,  3.50411229,\n",
              "       30.59606128, 23.67067716, 35.72188367, 32.08456265, 12.46018697,\n",
              "        3.6547117 , 23.47201865, 33.03087484, 17.49294672, 37.61450804,\n",
              "       27.54898855, 22.07657992, 11.51387478,  9.470651  , 30.53852451,\n",
              "       28.64590014, 33.67865989,  4.60102388, 24.1198037 , 21.13026773,\n",
              "       25.71390094])"
            ]
          },
          "metadata": {},
          "execution_count": 67
        }
      ],
      "source": [
        "y_pred"
      ]
    },
    {
      "cell_type": "markdown",
      "source": [
        "## **Model Evaluation**"
      ],
      "metadata": {
        "id": "D5sR-iJC1fmQ"
      },
      "id": "D5sR-iJC1fmQ"
    },
    {
      "cell_type": "code",
      "execution_count": 68,
      "id": "7bb67c7c",
      "metadata": {
        "execution": {
          "iopub.execute_input": "2023-04-19T15:35:11.599050Z",
          "iopub.status.busy": "2023-04-19T15:35:11.598478Z",
          "iopub.status.idle": "2023-04-19T15:35:11.610409Z",
          "shell.execute_reply": "2023-04-19T15:35:11.608349Z"
        },
        "papermill": {
          "duration": 0.03062,
          "end_time": "2023-04-19T15:35:11.614995",
          "exception": false,
          "start_time": "2023-04-19T15:35:11.584375",
          "status": "completed"
        },
        "tags": [],
        "colab": {
          "base_uri": "https://localhost:8080/"
        },
        "id": "7bb67c7c",
        "outputId": "747849c4-4b1d-46be-c5cd-b0d3400d3e04"
      },
      "outputs": [
        {
          "output_type": "execute_result",
          "data": {
            "text/plain": [
              "66.03589175595563"
            ]
          },
          "metadata": {},
          "execution_count": 68
        }
      ],
      "source": [
        "mean_squared_error(y_test,y_pred)"
      ]
    },
    {
      "cell_type": "code",
      "execution_count": 69,
      "id": "5c5f4db0",
      "metadata": {
        "execution": {
          "iopub.execute_input": "2023-04-19T15:35:11.647782Z",
          "iopub.status.busy": "2023-04-19T15:35:11.647165Z",
          "iopub.status.idle": "2023-04-19T15:35:11.657762Z",
          "shell.execute_reply": "2023-04-19T15:35:11.656375Z"
        },
        "papermill": {
          "duration": 0.03151,
          "end_time": "2023-04-19T15:35:11.660915",
          "exception": false,
          "start_time": "2023-04-19T15:35:11.629405",
          "status": "completed"
        },
        "tags": [],
        "colab": {
          "base_uri": "https://localhost:8080/"
        },
        "id": "5c5f4db0",
        "outputId": "0113340a-dbcb-4d53-9e97-8e605bc25321"
      },
      "outputs": [
        {
          "output_type": "execute_result",
          "data": {
            "text/plain": [
              "7.190539677251235"
            ]
          },
          "metadata": {},
          "execution_count": 69
        }
      ],
      "source": [
        "mean_absolute_error(y_test,y_pred)"
      ]
    },
    {
      "cell_type": "code",
      "execution_count": 70,
      "id": "b3e461ae",
      "metadata": {
        "execution": {
          "iopub.execute_input": "2023-04-19T15:35:11.688776Z",
          "iopub.status.busy": "2023-04-19T15:35:11.688272Z",
          "iopub.status.idle": "2023-04-19T15:35:11.701481Z",
          "shell.execute_reply": "2023-04-19T15:35:11.699186Z"
        },
        "papermill": {
          "duration": 0.031914,
          "end_time": "2023-04-19T15:35:11.705255",
          "exception": false,
          "start_time": "2023-04-19T15:35:11.673341",
          "status": "completed"
        },
        "tags": [],
        "colab": {
          "base_uri": "https://localhost:8080/"
        },
        "id": "b3e461ae",
        "outputId": "3a475950-f605-487a-84dd-769bce106b87"
      },
      "outputs": [
        {
          "output_type": "execute_result",
          "data": {
            "text/plain": [
              "0.6807245170563927"
            ]
          },
          "metadata": {},
          "execution_count": 70
        }
      ],
      "source": [
        "r2_score(y_test,y_pred)"
      ]
    },
    {
      "cell_type": "code",
      "execution_count": 71,
      "id": "b007947c",
      "metadata": {
        "execution": {
          "iopub.execute_input": "2023-04-19T15:35:11.737782Z",
          "iopub.status.busy": "2023-04-19T15:35:11.737154Z",
          "iopub.status.idle": "2023-04-19T15:35:12.030778Z",
          "shell.execute_reply": "2023-04-19T15:35:12.028438Z"
        },
        "papermill": {
          "duration": 0.312545,
          "end_time": "2023-04-19T15:35:12.034273",
          "exception": false,
          "start_time": "2023-04-19T15:35:11.721728",
          "status": "completed"
        },
        "tags": [],
        "colab": {
          "base_uri": "https://localhost:8080/",
          "height": 472
        },
        "id": "b007947c",
        "outputId": "cfbf6508-7883-4bad-e1ac-3bc4c82173a3"
      },
      "outputs": [
        {
          "output_type": "display_data",
          "data": {
            "text/plain": [
              "<Figure size 640x480 with 1 Axes>"
            ],
            "image/png": "[encoded data removed]"
          },
          "metadata": {}
        }
      ],
      "source": [
        "\n",
        "plt.scatter (y_test, y_pred)\n",
        "plt.xlabel(\"Actual\")\n",
        "plt.ylabel(\"Predicted\")\n",
        "plt.title(\"Actual vs Preicted\")\n",
        "plt.show()"
      ]
    },
    {
      "cell_type": "code",
      "execution_count": 72,
      "id": "6ba57e99",
      "metadata": {
        "execution": {
          "iopub.execute_input": "2023-04-19T15:35:12.065574Z",
          "iopub.status.busy": "2023-04-19T15:35:12.064743Z",
          "iopub.status.idle": "2023-04-19T15:35:12.072905Z",
          "shell.execute_reply": "2023-04-19T15:35:12.070777Z"
        },
        "papermill": {
          "duration": 0.027976,
          "end_time": "2023-04-19T15:35:12.076529",
          "exception": false,
          "start_time": "2023-04-19T15:35:12.048553",
          "status": "completed"
        },
        "tags": [],
        "id": "6ba57e99"
      },
      "outputs": [],
      "source": [
        "X_new = servo.sample(1)"
      ]
    },
    {
      "cell_type": "code",
      "execution_count": 73,
      "id": "aa892328",
      "metadata": {
        "execution": {
          "iopub.execute_input": "2023-04-19T15:35:12.107454Z",
          "iopub.status.busy": "2023-04-19T15:35:12.106557Z",
          "iopub.status.idle": "2023-04-19T15:35:12.122883Z",
          "shell.execute_reply": "2023-04-19T15:35:12.120447Z"
        },
        "papermill": {
          "duration": 0.038251,
          "end_time": "2023-04-19T15:35:12.128304",
          "exception": false,
          "start_time": "2023-04-19T15:35:12.090053",
          "status": "completed"
        },
        "tags": [],
        "colab": {
          "base_uri": "https://localhost:8080/",
          "height": 81
        },
        "id": "aa892328",
        "outputId": "e0697f56-2fef-4666-8ffd-f62bdd468341"
      },
      "outputs": [
        {
          "output_type": "execute_result",
          "data": {
            "text/plain": [
              "    Motor  Screw  Pgain  Vgain  Class\n",
              "84      4      0      6      5     13"
            ],
            "text/html": [
              "\n",
              "  <div id=\"df-b91dba9c-0cc5-4726-afb5-1fe720d4b86d\">\n",
              "    <div class=\"colab-df-container\">\n",
              "      <div>\n",
              "<style scoped>\n",
              "    .dataframe tbody tr th:only-of-type {\n",
              "        vertical-align: middle;\n",
              "    }\n",
              "\n",
              "    .dataframe tbody tr th {\n",
              "        vertical-align: top;\n",
              "    }\n",
              "\n",
              "    .dataframe thead th {\n",
              "        text-align: right;\n",
              "    }\n",
              "</style>\n",
              "<table border=\"1\" class=\"dataframe\">\n",
              "  <thead>\n",
              "    <tr style=\"text-align: right;\">\n",
              "      <th></th>\n",
              "      <th>Motor</th>\n",
              "      <th>Screw</th>\n",
              "      <th>Pgain</th>\n",
              "      <th>Vgain</th>\n",
              "      <th>Class</th>\n",
              "    </tr>\n",
              "  </thead>\n",
              "  <tbody>\n",
              "    <tr>\n",
              "      <th>84</th>\n",
              "      <td>4</td>\n",
              "      <td>0</td>\n",
              "      <td>6</td>\n",
              "      <td>5</td>\n",
              "      <td>13</td>\n",
              "    </tr>\n",
              "  </tbody>\n",
              "</table>\n",
              "</div>\n",
              "      <button class=\"colab-df-convert\" onclick=\"convertToInteractive('df-b91dba9c-0cc5-4726-afb5-1fe720d4b86d')\"\n",
              "              title=\"Convert this dataframe to an interactive table.\"\n",
              "              style=\"display:none;\">\n",
              "        \n",
              "  <svg xmlns=\"http://www.w3.org/2000/svg\" height=\"24px\"viewBox=\"0 0 24 24\"\n",
              "       width=\"24px\">\n",
              "    <path d=\"M0 0h24v24H0V0z\" fill=\"none\"/>\n",
              "    <path d=\"M18.56 5.44l.94 2.06.94-2.06 2.06-.94-2.06-.94-.94-2.06-.94 2.06-2.06.94zm-11 1L8.5 8.5l.94-2.06 2.06-.94-2.06-.94L8.5 2.5l-.94 2.06-2.06.94zm10 10l.94 2.06.94-2.06 2.06-.94-2.06-.94-.94-2.06-.94 2.06-2.06.94z\"/><path d=\"M17.41 7.96l-1.37-1.37c-.4-.4-.92-.59-1.43-.59-.52 0-1.04.2-1.43.59L10.3 9.45l-7.72 7.72c-.78.78-.78 2.05 0 2.83L4 21.41c.39.39.9.59 1.41.59.51 0 1.02-.2 1.41-.59l7.78-7.78 2.81-2.81c.8-.78.8-2.07 0-2.86zM5.41 20L4 18.59l7.72-7.72 1.47 1.35L5.41 20z\"/>\n",
              "  </svg>\n",
              "      </button>\n",
              "      \n",
              "  <style>\n",
              "    .colab-df-container {\n",
              "      display:flex;\n",
              "      flex-wrap:wrap;\n",
              "      gap: 12px;\n",
              "    }\n",
              "\n",
              "    .colab-df-convert {\n",
              "      background-color: #E8F0FE;\n",
              "      border: none;\n",
              "      border-radius: 50%;\n",
              "      cursor: pointer;\n",
              "      display: none;\n",
              "      fill: #1967D2;\n",
              "      height: 32px;\n",
              "      padding: 0 0 0 0;\n",
              "      width: 32px;\n",
              "    }\n",
              "\n",
              "    .colab-df-convert:hover {\n",
              "      background-color: #E2EBFA;\n",
              "      box-shadow: 0px 1px 2px rgba(60, 64, 67, 0.3), 0px 1px 3px 1px rgba(60, 64, 67, 0.15);\n",
              "      fill: #174EA6;\n",
              "    }\n",
              "\n",
              "    [theme=dark] .colab-df-convert {\n",
              "      background-color: #3B4455;\n",
              "      fill: #D2E3FC;\n",
              "    }\n",
              "\n",
              "    [theme=dark] .colab-df-convert:hover {\n",
              "      background-color: #434B5C;\n",
              "      box-shadow: 0px 1px 3px 1px rgba(0, 0, 0, 0.15);\n",
              "      filter: drop-shadow(0px 1px 2px rgba(0, 0, 0, 0.3));\n",
              "      fill: #FFFFFF;\n",
              "    }\n",
              "  </style>\n",
              "\n",
              "      <script>\n",
              "        const buttonEl =\n",
              "          document.querySelector('#df-b91dba9c-0cc5-4726-afb5-1fe720d4b86d button.colab-df-convert');\n",
              "        buttonEl.style.display =\n",
              "          google.colab.kernel.accessAllowed ? 'block' : 'none';\n",
              "\n",
              "        async function convertToInteractive(key) {\n",
              "          const element = document.querySelector('#df-b91dba9c-0cc5-4726-afb5-1fe720d4b86d');\n",
              "          const dataTable =\n",
              "            await google.colab.kernel.invokeFunction('convertToInteractive',\n",
              "                                                     [key], {});\n",
              "          if (!dataTable) return;\n",
              "\n",
              "          const docLinkHtml = 'Like what you see? Visit the ' +\n",
              "            '<a target=\"_blank\" href=https://colab.research.google.com/notebooks/data_table.ipynb>data table notebook</a>'\n",
              "            + ' to learn more about interactive tables.';\n",
              "          element.innerHTML = '';\n",
              "          dataTable['output_type'] = 'display_data';\n",
              "          await google.colab.output.renderOutput(dataTable, element);\n",
              "          const docLink = document.createElement('div');\n",
              "          docLink.innerHTML = docLinkHtml;\n",
              "          element.appendChild(docLink);\n",
              "        }\n",
              "      </script>\n",
              "    </div>\n",
              "  </div>\n",
              "  "
            ]
          },
          "metadata": {},
          "execution_count": 73
        }
      ],
      "source": [
        "X_new"
      ]
    },
    {
      "cell_type": "code",
      "execution_count": 74,
      "id": "e6ee2884",
      "metadata": {
        "execution": {
          "iopub.execute_input": "2023-04-19T15:35:12.161706Z",
          "iopub.status.busy": "2023-04-19T15:35:12.161197Z",
          "iopub.status.idle": "2023-04-19T15:35:12.171826Z",
          "shell.execute_reply": "2023-04-19T15:35:12.170204Z"
        },
        "papermill": {
          "duration": 0.030166,
          "end_time": "2023-04-19T15:35:12.175201",
          "exception": false,
          "start_time": "2023-04-19T15:35:12.145035",
          "status": "completed"
        },
        "tags": [],
        "colab": {
          "base_uri": "https://localhost:8080/"
        },
        "id": "e6ee2884",
        "outputId": "f0065013-d4de-422b-d8a8-bad3e0de6124"
      },
      "outputs": [
        {
          "output_type": "execute_result",
          "data": {
            "text/plain": [
              "(1, 5)"
            ]
          },
          "metadata": {},
          "execution_count": 74
        }
      ],
      "source": [
        "X_new.shape"
      ]
    },
    {
      "cell_type": "code",
      "execution_count": 75,
      "id": "5dcef5c1",
      "metadata": {
        "execution": {
          "iopub.execute_input": "2023-04-19T15:35:12.209276Z",
          "iopub.status.busy": "2023-04-19T15:35:12.208703Z",
          "iopub.status.idle": "2023-04-19T15:35:12.218353Z",
          "shell.execute_reply": "2023-04-19T15:35:12.216075Z"
        },
        "papermill": {
          "duration": 0.030265,
          "end_time": "2023-04-19T15:35:12.221185",
          "exception": false,
          "start_time": "2023-04-19T15:35:12.190920",
          "status": "completed"
        },
        "tags": [],
        "id": "5dcef5c1"
      },
      "outputs": [],
      "source": [
        "X_new = X_new.drop('Class', axis = 1)"
      ]
    },
    {
      "cell_type": "code",
      "execution_count": 76,
      "id": "82cdb1bf",
      "metadata": {
        "execution": {
          "iopub.execute_input": "2023-04-19T15:35:12.251367Z",
          "iopub.status.busy": "2023-04-19T15:35:12.250902Z",
          "iopub.status.idle": "2023-04-19T15:35:12.264365Z",
          "shell.execute_reply": "2023-04-19T15:35:12.262574Z"
        },
        "papermill": {
          "duration": 0.032631,
          "end_time": "2023-04-19T15:35:12.267846",
          "exception": false,
          "start_time": "2023-04-19T15:35:12.235215",
          "status": "completed"
        },
        "tags": [],
        "colab": {
          "base_uri": "https://localhost:8080/",
          "height": 81
        },
        "id": "82cdb1bf",
        "outputId": "d78109f9-8552-4259-835f-b1189b9d5eb4"
      },
      "outputs": [
        {
          "output_type": "execute_result",
          "data": {
            "text/plain": [
              "    Motor  Screw  Pgain  Vgain\n",
              "84      4      0      6      5"
            ],
            "text/html": [
              "\n",
              "  <div id=\"df-2031ddbf-a147-4115-bdc0-cc75c1b825dc\">\n",
              "    <div class=\"colab-df-container\">\n",
              "      <div>\n",
              "<style scoped>\n",
              "    .dataframe tbody tr th:only-of-type {\n",
              "        vertical-align: middle;\n",
              "    }\n",
              "\n",
              "    .dataframe tbody tr th {\n",
              "        vertical-align: top;\n",
              "    }\n",
              "\n",
              "    .dataframe thead th {\n",
              "        text-align: right;\n",
              "    }\n",
              "</style>\n",
              "<table border=\"1\" class=\"dataframe\">\n",
              "  <thead>\n",
              "    <tr style=\"text-align: right;\">\n",
              "      <th></th>\n",
              "      <th>Motor</th>\n",
              "      <th>Screw</th>\n",
              "      <th>Pgain</th>\n",
              "      <th>Vgain</th>\n",
              "    </tr>\n",
              "  </thead>\n",
              "  <tbody>\n",
              "    <tr>\n",
              "      <th>84</th>\n",
              "      <td>4</td>\n",
              "      <td>0</td>\n",
              "      <td>6</td>\n",
              "      <td>5</td>\n",
              "    </tr>\n",
              "  </tbody>\n",
              "</table>\n",
              "</div>\n",
              "      <button class=\"colab-df-convert\" onclick=\"convertToInteractive('df-2031ddbf-a147-4115-bdc0-cc75c1b825dc')\"\n",
              "              title=\"Convert this dataframe to an interactive table.\"\n",
              "              style=\"display:none;\">\n",
              "        \n",
              "  <svg xmlns=\"http://www.w3.org/2000/svg\" height=\"24px\"viewBox=\"0 0 24 24\"\n",
              "       width=\"24px\">\n",
              "    <path d=\"M0 0h24v24H0V0z\" fill=\"none\"/>\n",
              "    <path d=\"M18.56 5.44l.94 2.06.94-2.06 2.06-.94-2.06-.94-.94-2.06-.94 2.06-2.06.94zm-11 1L8.5 8.5l.94-2.06 2.06-.94-2.06-.94L8.5 2.5l-.94 2.06-2.06.94zm10 10l.94 2.06.94-2.06 2.06-.94-2.06-.94-.94-2.06-.94 2.06-2.06.94z\"/><path d=\"M17.41 7.96l-1.37-1.37c-.4-.4-.92-.59-1.43-.59-.52 0-1.04.2-1.43.59L10.3 9.45l-7.72 7.72c-.78.78-.78 2.05 0 2.83L4 21.41c.39.39.9.59 1.41.59.51 0 1.02-.2 1.41-.59l7.78-7.78 2.81-2.81c.8-.78.8-2.07 0-2.86zM5.41 20L4 18.59l7.72-7.72 1.47 1.35L5.41 20z\"/>\n",
              "  </svg>\n",
              "      </button>\n",
              "      \n",
              "  <style>\n",
              "    .colab-df-container {\n",
              "      display:flex;\n",
              "      flex-wrap:wrap;\n",
              "      gap: 12px;\n",
              "    }\n",
              "\n",
              "    .colab-df-convert {\n",
              "      background-color: #E8F0FE;\n",
              "      border: none;\n",
              "      border-radius: 50%;\n",
              "      cursor: pointer;\n",
              "      display: none;\n",
              "      fill: #1967D2;\n",
              "      height: 32px;\n",
              "      padding: 0 0 0 0;\n",
              "      width: 32px;\n",
              "    }\n",
              "\n",
              "    .colab-df-convert:hover {\n",
              "      background-color: #E2EBFA;\n",
              "      box-shadow: 0px 1px 2px rgba(60, 64, 67, 0.3), 0px 1px 3px 1px rgba(60, 64, 67, 0.15);\n",
              "      fill: #174EA6;\n",
              "    }\n",
              "\n",
              "    [theme=dark] .colab-df-convert {\n",
              "      background-color: #3B4455;\n",
              "      fill: #D2E3FC;\n",
              "    }\n",
              "\n",
              "    [theme=dark] .colab-df-convert:hover {\n",
              "      background-color: #434B5C;\n",
              "      box-shadow: 0px 1px 3px 1px rgba(0, 0, 0, 0.15);\n",
              "      filter: drop-shadow(0px 1px 2px rgba(0, 0, 0, 0.3));\n",
              "      fill: #FFFFFF;\n",
              "    }\n",
              "  </style>\n",
              "\n",
              "      <script>\n",
              "        const buttonEl =\n",
              "          document.querySelector('#df-2031ddbf-a147-4115-bdc0-cc75c1b825dc button.colab-df-convert');\n",
              "        buttonEl.style.display =\n",
              "          google.colab.kernel.accessAllowed ? 'block' : 'none';\n",
              "\n",
              "        async function convertToInteractive(key) {\n",
              "          const element = document.querySelector('#df-2031ddbf-a147-4115-bdc0-cc75c1b825dc');\n",
              "          const dataTable =\n",
              "            await google.colab.kernel.invokeFunction('convertToInteractive',\n",
              "                                                     [key], {});\n",
              "          if (!dataTable) return;\n",
              "\n",
              "          const docLinkHtml = 'Like what you see? Visit the ' +\n",
              "            '<a target=\"_blank\" href=https://colab.research.google.com/notebooks/data_table.ipynb>data table notebook</a>'\n",
              "            + ' to learn more about interactive tables.';\n",
              "          element.innerHTML = '';\n",
              "          dataTable['output_type'] = 'display_data';\n",
              "          await google.colab.output.renderOutput(dataTable, element);\n",
              "          const docLink = document.createElement('div');\n",
              "          docLink.innerHTML = docLinkHtml;\n",
              "          element.appendChild(docLink);\n",
              "        }\n",
              "      </script>\n",
              "    </div>\n",
              "  </div>\n",
              "  "
            ]
          },
          "metadata": {},
          "execution_count": 76
        }
      ],
      "source": [
        "X_new"
      ]
    },
    {
      "cell_type": "code",
      "execution_count": 77,
      "id": "37440d12",
      "metadata": {
        "execution": {
          "iopub.execute_input": "2023-04-19T15:35:12.300926Z",
          "iopub.status.busy": "2023-04-19T15:35:12.299240Z",
          "iopub.status.idle": "2023-04-19T15:35:12.310786Z",
          "shell.execute_reply": "2023-04-19T15:35:12.308921Z"
        },
        "papermill": {
          "duration": 0.03179,
          "end_time": "2023-04-19T15:35:12.315247",
          "exception": false,
          "start_time": "2023-04-19T15:35:12.283457",
          "status": "completed"
        },
        "tags": [],
        "colab": {
          "base_uri": "https://localhost:8080/"
        },
        "id": "37440d12",
        "outputId": "bf45c078-d643-4993-ea76-39bb390af158"
      },
      "outputs": [
        {
          "output_type": "execute_result",
          "data": {
            "text/plain": [
              "(1, 4)"
            ]
          },
          "metadata": {},
          "execution_count": 77
        }
      ],
      "source": [
        "X_new.shape"
      ]
    },
    {
      "cell_type": "markdown",
      "source": [
        "## **Prediction**"
      ],
      "metadata": {
        "id": "SOtUP3wj1lGr"
      },
      "id": "SOtUP3wj1lGr"
    },
    {
      "cell_type": "code",
      "execution_count": 78,
      "id": "a9b9bef2",
      "metadata": {
        "execution": {
          "iopub.execute_input": "2023-04-19T15:35:12.346166Z",
          "iopub.status.busy": "2023-04-19T15:35:12.345583Z",
          "iopub.status.idle": "2023-04-19T15:35:12.355261Z",
          "shell.execute_reply": "2023-04-19T15:35:12.353484Z"
        },
        "papermill": {
          "duration": 0.028613,
          "end_time": "2023-04-19T15:35:12.358435",
          "exception": false,
          "start_time": "2023-04-19T15:35:12.329822",
          "status": "completed"
        },
        "tags": [],
        "id": "a9b9bef2"
      },
      "outputs": [],
      "source": [
        "y_pred_new = model.predict(X_new)"
      ]
    },
    {
      "cell_type": "code",
      "execution_count": 79,
      "id": "62de0bb7",
      "metadata": {
        "execution": {
          "iopub.execute_input": "2023-04-19T15:35:12.389015Z",
          "iopub.status.busy": "2023-04-19T15:35:12.386745Z",
          "iopub.status.idle": "2023-04-19T15:35:12.398647Z",
          "shell.execute_reply": "2023-04-19T15:35:12.396496Z"
        },
        "papermill": {
          "duration": 0.030403,
          "end_time": "2023-04-19T15:35:12.402011",
          "exception": false,
          "start_time": "2023-04-19T15:35:12.371608",
          "status": "completed"
        },
        "tags": [],
        "colab": {
          "base_uri": "https://localhost:8080/"
        },
        "id": "62de0bb7",
        "outputId": "f20d9ac8-6037-4cf0-9dbd-9e15edbfc1f5"
      },
      "outputs": [
        {
          "output_type": "execute_result",
          "data": {
            "text/plain": [
              "array([6.49364826])"
            ]
          },
          "metadata": {},
          "execution_count": 79
        }
      ],
      "source": [
        "y_pred_new"
      ]
    },
    {
      "cell_type": "markdown",
      "source": [
        "## **Explanation**"
      ],
      "metadata": {
        "id": "nPKsH99z1ov-"
      },
      "id": "nPKsH99z1ov-"
    },
    {
      "cell_type": "markdown",
      "source": [
        "\n",
        "\n",
        "> the **MSE** value is 66.0358. This means that the average squared difference between the predicted and actual values is 66.0358, indicating that the model has a moderate level of error.\n",
        "\n",
        ">the **MAE** value is 7.1905. This means that the average absolute difference between the predicted and actual values is 7.1905, indicating that the model has a moderate level of error as well.\n",
        "\n",
        ">the **R2 score** is 0.680724, which means that approximately 68.07% of the variance in the servo position can be explained by the input signal in the model.\n",
        "\n"
      ],
      "metadata": {
        "id": "xqHReno53fIq"
      },
      "id": "xqHReno53fIq"
    },
    {
      "cell_type": "code",
      "source": [],
      "metadata": {
        "id": "GhJDK17pyMr-"
      },
      "id": "GhJDK17pyMr-",
      "execution_count": 79,
      "outputs": []
    }
  ],
  "metadata": {
    "kernelspec": {
      "display_name": "Python 3",
      "language": "python",
      "name": "python3"
    },
    "language_info": {
      "codemirror_mode": {
        "name": "ipython",
        "version": 3
      },
      "file_extension": ".py",
      "mimetype": "text/x-python",
      "name": "python",
      "nbconvert_exporter": "python",
      "pygments_lexer": "ipython3",
      "version": "3.7.12"
    },
    "papermill": {
      "default_parameters": {},
      "duration": 20.624483,
      "end_time": "2023-04-19T15:35:13.547118",
      "environment_variables": {},
      "exception": null,
      "input_path": "__notebook__.ipynb",
      "output_path": "__notebook__.ipynb",
      "parameters": {},
      "start_time": "2023-04-19T15:34:52.922635",
      "version": "2.4.0"
    },
    "colab": {
      "provenance": []
    }
  },
  "nbformat": 4,
  "nbformat_minor": 5
}